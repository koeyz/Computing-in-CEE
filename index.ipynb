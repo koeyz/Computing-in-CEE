{
 "cells": [
  {
   "cell_type": "markdown",
   "metadata": {},
   "source": [
    "# Computing in Civil and Environmental Engineering\n",
    "\n",
    "by Xiaofeng Liu, Ph.D., P.E.\n",
    "Associate Professor\n",
    "\n",
    "Department of Civil and Environmental Engineering  \n",
    "Institute of Computational and Data Sciences  \n",
    "Penn State University\n",
    "\n",
    "223B Sackett Building, University Park, PA 16802\n",
    "\n",
    "Web: http://water.engr.psu.edu/liu/\n",
    "\n",
    "---------------------------------------------------"
   ]
  },
  {
   "cell_type": "code",
   "execution_count": 1,
   "metadata": {},
   "outputs": [
    {
     "name": "stdout",
     "output_type": "stream",
     "text": [
      "Start to load preamble.\n",
      "Finished loading preamble.\n"
     ]
    }
   ],
   "source": [
    "#Do not change this cell. It is for setting things up.\n",
    "\n",
    "#make plots inline\n",
    "%matplotlib inline\n",
    "\n",
    "#import the preamble\n",
    "from preamble import *\n",
    "\n",
    "from IPython.display import display, HTML"
   ]
  },
  {
   "cell_type": "markdown",
   "metadata": {},
   "source": [
    "The following cell is to have equation numbering. Do not change."
   ]
  },
  {
   "cell_type": "code",
   "execution_count": 2,
   "metadata": {},
   "outputs": [
    {
     "data": {
      "application/javascript": [
       "MathJax.Hub.Config({\n",
       "    TeX: { equationNumbers: { autoNumber: \"AMS\" } }\n",
       "});\n"
      ],
      "text/plain": [
       "<IPython.core.display.Javascript object>"
      ]
     },
     "metadata": {},
     "output_type": "display_data"
    }
   ],
   "source": [
    "%%javascript\n",
    "MathJax.Hub.Config({\n",
    "    TeX: { equationNumbers: { autoNumber: \"AMS\" } }\n",
    "});"
   ]
  },
  {
   "cell_type": "markdown",
   "metadata": {
    "slideshow": {
     "slide_type": "subslide"
    }
   },
   "source": [
    "# See static render on [nbviewer](https://nbviewer.jupyter.org/github/psu-efd/Computing-in-CEE/blob/master/index.ipynb)\n",
    "\n",
    "GitHub does not support certain features in the Jupyter Notebook. You can view a static render on [nbviewer](https://nbviewer.jupyter.org/github/psu-efd/Computing-in-CEE/blob/master/index.ipynb).\n",
    "\n",
    "# Why another book?\n",
    "\n",
    "There are many many excellent books on the topic computational methods for engineers and scientists, as well as programming. However, through my teaching and research, I increasingly feel that there is a lack of discipline-specific textbook for civil and environmental engineers. Many of the books I used for my study and teaching are very general. They are geared toward a much broader audience, which is good. However, a consequence of this is that the content (description of each numerical method, examples, and exercise problems) may not be so relevant to civil and environmental engineers. This book is specifically designed to fill this hole. \n",
    "\n",
    "This work is far from complete. As of now, it is a collection of lecture notes in the form of Jupyter Notebooks using Python. These lecture notes are for the **Computing in Civil and Environmental Engineering** course that the author offers at Penn State. It will evolve as time goes by and may not reach completion before several batches of students go through this course.\n",
    "\n",
    "Although the title of the book sounds like it is *ONLY* for civil and environmental engineers, it is envisioned that students and practioners from other disciplines, such as agricultural and biological engineering, architectural engineering, earth and mineral sciences, and geological sciences,  can find this work useful. \n",
    "\n",
    "# Overview and outline\n",
    "\n",
    "This work is still evolving. As time goes by, more content and CEE-relevant examples will be added. The following is the outline and example list:\n",
    "- Chapter 1: Basics\n",
    "\t- Text: \n",
    "        - [Why computing?](chapter_1_basics/why_computing/why_computing.ipynb) \n",
    "        - [Computer basics](chapter_1_basics/computer_basics/computer_basics.ipynb)\n",
    "        - [Primer on programming](chapter_1_basics/primer_on_programming/primer_on_programming.ipynb)\n",
    "\t\t- [Introduction to Jupyter Notebook](chapter_1_basics/introduction_to_Jupyter_Notebook/introduction_to_Jupyter_Notebook.ipynb)\n",
    "\t\t- [Installation of Python and libraries](chapter_1_basics/installation_of_Python_and_libraries/installation_of_Python_and_libraries.ipynb)\n",
    "\t\t- [Introduction to Python](chapter_1_basics/introduction_to_python/introduction_to_python.ipynb)\n",
    "\t\t- [Plotting in Python](chapter_1_basics/introduction_to_python/Plotting_in_Python.ipynb)\n",
    "\t\t- [Numerical analysis and errors](chapter_1_basics/numerical_analysis_errors/numercial_analysis_errors.ipynb)\n",
    "\t\t- [Difference between Python v2 and v3](chapter_1_basics/differences_between_python_v2_and_v3/differences_between_python_v2_and_v3.ipynb)\n",
    "\t- Examples:\n",
    "\t\t- [Manning's equation for discharge calculation](chapter_1_basics/Mannings_equation/Mannings_equation.ipynb)\n",
    "\t\t- [Calculation of $\\pi$ with Python](chapter_1_basics/calculate_Pi_with_Python/calculate_Pi_with_python.ipynb)\n",
    "- Chapter 2: Root finding\n",
    "\t- Text: \n",
    "\t\t- [Root finding methods](chapter_2_root_finding/root_finding_methods/root_finding_methods.ipynb): \n",
    "\t\t\t- bracketting methods: bisection method and false position method\n",
    "\t\t\t- open methods: Fixed-point iteration method, Newton's method, and Secant method\n",
    "\t\t    - Python libraries for root finding\n",
    "\t- Examples:\n",
    "\t\t- [Green-Ampt infiltration](chapter_2_root_finding/Green_Ampt_infiltration/GreenAmpt_infiltration.ipynb)\n",
    "\t\t- [Manning's equation for normal depth calculation](chapter_2_root_finding/Mannings_equation_normal_depth/Mannings_equation_normal_depth.ipynb)\n",
    "\t\t- [Beam deflection](chapter_2_root_finding/beam_deflection/beam_deflection.ipynb)\n",
    "\t\t- [Friction factor using the Colebrook-White formula](chapter_2_root_finding/friction_factor_Colebrook_White/friction_factor_Colebrook_White.ipynb)\n",
    "\t\t- [Particle settling in fluid](chapter_2_root_finding/particle_motion_in_fluid/particle_motion_in_fluid.ipynb)\n",
    "\t\t- [A step in open channel flow](chapter_2_root_finding/step_in_OCF/A_step_in_open_channel_flow.ipynb)\n",
    "- Chapter 3: Curve fitting\n",
    "\t- Text:\n",
    "\t\t- [Curve fitting](chapter_3_interpolation_curve_fitting/curve_fitting.ipynb)\n",
    "\t\t\t- Introduction\n",
    "\t\t\t- Least-square regression: \n",
    "\t\t\t\t- linear regression\n",
    "\t\t\t\t- linearizable nonlinear regression\n",
    "\t\t\t\t- polynomial regression\n",
    "\t\t\t\t- nonlinear regression\n",
    "\t\t\t- Interpolation: \n",
    "\t\t\t\t- Newton's divided-difference interpolating polynomials\n",
    "\t\t\t\t- Lagrange interpolating polynomials\n",
    "\t\t\t- Python libraries for curve fitting\n",
    "\t- Examples:\n",
    "\t\t- [Fluid rheological data fitting](chapter_3_interpolation_curve_fitting/rheology_BoyerEtAl2011/rheology_example.ipynb)\n",
    "\t\t- [Flow velocity profile in open channel flows](chapter_3_interpolation_curve_fitting/velocity_profile/curve_fitting_log_law.ipynb)\n",
    "\t\t- [Weir discharge coefficient](chapter_3_interpolation_curve_fitting/weir_coefficient/curve_fitting_weir_coefficient.ipynb)\n",
    "\t\t- Saturation growth rate\n",
    "\t\t- Surface area vs storage volume for a reservior\t\t\n",
    "- Chapter 4: Linear system of equations\n",
    "\t- Text:\n",
    "\t\t- [Linear equation systems](chapter_4_linear_system/linear_equation_systems.ipynb)\n",
    "\t\t\t- Introduction and background\n",
    "\t\t\t- Graphcial method\n",
    "\t\t\t- Direct solution methods: Determinant and Cramer's rule, Gauss elimination method, Gauss-Jordan method, LU decomposition method\n",
    "\t\t\t- Iterative solution methods: Jacobi method, Gauss-Seidel method, SOR method\n",
    "\t\t\t- Appendix: marix and vector operations in Python\n",
    "\t- Examples:\n",
    "\t\t- [2D truss](chapter_4_linear_system/2D_truss/2D_truss.ipynb)\n",
    "\t\t- [Steady state chemical reactor](chapter_4_linear_system/steady_chemical_reactors/steady_chemical_reactors.ipynb)\n",
    "\t\t- [Material mixing](chapter_4_linear_system/material_mixing/material_mixing.ipynb)\n",
    "\t\t- [Dimensional analysis](chapter_4_linear_system/Buckingham_pi_theorem/Buckingham_pi_theorem.ipynb)\n",
    "\t\t- [Parabolic vertical road curves](chapter_4_linear_system/parabolic_vertical_road_curves/parabolic_vertical_curve.ipynb)\n",
    "- Chapter 5: Numerical integration\n",
    "\t- Text:\n",
    "\t\t- [Numerical integration](chapter_5_numerical_integration/numerical_integration.ipynb)\n",
    "\t\t\t- Newton-Cotes methods: trapezoidal rule, Simpson's rule, double and multiple integrals\n",
    "\t\t\t- Gauss quadrature\n",
    "\t\t\t- Python libraries for numerical integration\n",
    "\t- Examples:\n",
    "\t\t- Arc length\n",
    "\t\t- Center of mass\n",
    "\t\t- Convolution integral\n",
    "\t\t- Discharge across a section\n",
    "\t\t- Fouries series coefficients\n",
    "\t\t- Hydrostatic force and moment on plane surface\n",
    "\t\t- Probability\n",
    "- Chapter 6: Numerical differentiation\n",
    "\t- Text:\n",
    "\t\t- Introduction\n",
    "\t\t- Derivations of differential formulas: first-order, second-order, accuracy of numerical derivatives, some practical issues\n",
    "\t\t- Python libraries for numerical differentiation\n",
    "\t- Examples:\n",
    "\t\t- Heat conduction along a rod\n",
    "\t\t- Gradient calculation\n",
    "- Chapter 7: Ordinary differential equations\n",
    "\t- Text:\n",
    "\t\t- Introduction and background\n",
    "\t\t- Initial value problems\n",
    "\t\t- Boundary value problems\n",
    "\t\t- Python libraries for ODEs\n",
    "\t- Examples:\n",
    "\t\t- Streeter-Phelps model for water quality\n",
    "\t\t- Backwater curve in open channels\n",
    "\t\t- Unsteady batch reactor\n",
    "\t\t- Mass-spring-damper system\n",
    "\t\t- Prey-predator model\n",
    "\t\t- Beam deflection\n",
    "\t\t- laminar boundary layer\n",
    "\t\t- Convective cooling\n",
    "- Chapter 8: Partial differential equations\n",
    "\t- Text:\n",
    "\t- Examples:\n",
    "\t\t- Unsteady diffusion \n",
    "\t\t- Laplace equation\n",
    "\t\t- Terzaghi 1D consolidation\n",
    "\t\t- Unsteady advection-diffusion\n",
    "\t\t- Waves\n",
    "- Chapter 9: Optimaizations\n",
    "\t- Text: \n",
    "\t- Examples:\n",
    "\t\t- Best hydraulic section in open channels\n",
    "\t\t- Transportation cost\n",
    "\t\t- Optimizing a 2D truss\n",
    "- Chapter 10: Statistics\n",
    "\n",
    "# How to contribute?\n",
    "\n",
    "A project like this will definitely benefit from the community. Contributions in the following categories are welcome:\n",
    "- Report of bugs and errors in the text and code\n",
    "- CEE-relevant examples (either just an idea or full implementation): my background in water resources engineering may skew the examples more toward what we call the \"wet\" side of CEE. Thus, examples from the \"dry\" side are especially welcome. \n",
    "- Special topic suggestions: any topic not covered in the text but of relevance to the CEE profession. \n",
    "\n",
    "If you want to contribute, either create a pull request or simply send an email to: <xzl123@psu.edu>. \n",
    "\n",
    "# How to cite?\n",
    "X. Liu (2020). Computing in Civil and Environmental Engineering. GitHub repository, [https://github.com/psu-efd/Computing-in-CEE](https://github.com/psu-efd/Computing-in-CEE), DOI: 10.5281/zenodo.3996772 \n",
    "\n",
    "# Acknowledgements\n",
    "\n",
    "This work is partially supported by the Penn State CEE Harry West Teaching Award. \n",
    "\n",
    "# License\n",
    "\n",
    "<a rel=\"license\" href=\"http://creativecommons.org/licenses/by-nc/4.0/\"><img alt=\"Creative Commons License\" style=\"border-width:0\" src=\"https://i.creativecommons.org/l/by-nc/4.0/88x31.png\" /></a><br />This work is\n",
    "<a href=\"https://raw.githubusercontent.com/psu-efd/Computing-in-CEE/master/LICENSE\">licensed</a> under a <a rel=\"license\" href=\"http://creativecommons.org/licenses/by-nc/4.0/\">Creative Commons Attribution-NonCommercial 4.0 International License</a>.\n",
    "\n",
    "In essence, this work can be downloaded, used and re-distributed for non-commercial\n",
    "purposes. You are free to share and adapt under the terms of attribution and noncommercial. \n",
    "\n",
    "\n",
    "# Author\n",
    "\n",
    "Dr. Xiaofeng Liu (see [web](http://water.engr.psu.edu/liu/),\n",
    "[twitter](https://twitter.com/Xiaofeng_Liu19)) is an associate professor in the Department of Civil and Environmental Engineering at the Pennsylvania State University. With background in civil engineering and applied mathematics, his main research interest is computational hydraulics and environmental flows. \n"
   ]
  },
  {
   "cell_type": "code",
   "execution_count": null,
   "metadata": {
    "collapsed": true
   },
   "outputs": [],
   "source": []
  }
 ],
 "metadata": {
  "kernelspec": {
   "display_name": "Python 3",
   "language": "python",
   "name": "python3"
  },
  "language_info": {
   "codemirror_mode": {
    "name": "ipython",
    "version": 3
   },
   "file_extension": ".py",
   "mimetype": "text/x-python",
   "name": "python",
   "nbconvert_exporter": "python",
   "pygments_lexer": "ipython3",
   "version": "3.7.3"
  }
 },
 "nbformat": 4,
 "nbformat_minor": 1
}
